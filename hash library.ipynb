{
 "cells": [
  {
   "cell_type": "code",
   "execution_count": 1,
   "id": "c819fb3f",
   "metadata": {},
   "outputs": [],
   "source": [
    "import hashlib as hl"
   ]
  },
  {
   "cell_type": "code",
   "execution_count": 2,
   "id": "b121f2ea",
   "metadata": {},
   "outputs": [
    {
     "name": "stdout",
     "output_type": "stream",
     "text": [
      "hashed pass is: 53388277cf80ba4775e9faccd2c79b983d1fae8a4a3a49c9cde0df7112be3a77c789ac6786a2250111850de07ca46276be0913f067b6a0f0253f9226f19c8bd0\n",
      "b'S8\\x82w\\xcf\\x80\\xbaGu\\xe9\\xfa\\xcc\\xd2\\xc7\\x9b\\x98=\\x1f\\xae\\x8aJ:I\\xc9\\xcd\\xe0\\xdfq\\x12\\xbe:w\\xc7\\x89\\xacg\\x86\\xa2%\\x01\\x11\\x85\\r\\xe0|\\xa4bv\\xbe\\t\\x13\\xf0g\\xb6\\xa0\\xf0%?\\x92&\\xf1\\x9c\\x8b\\xd0'\n",
      "sha512\n"
     ]
    }
   ],
   "source": [
    "passw=b'pavankumar'\n",
    "salt=b'fgh'\n",
    "dbs_passw=passw+salt\n",
    "hashed=hl.sha512(dbs_passw)\n",
    "print(\"hashed pass is:\",hashed.hexdigest())\n",
    "print(hashed.digest())\n",
    "##print(hashed.digest_size())\n",
    "print(hashed.name)"
   ]
  },
  {
   "cell_type": "code",
   "execution_count": 4,
   "id": "09e5915f",
   "metadata": {},
   "outputs": [
    {
     "name": "stdout",
     "output_type": "stream",
     "text": [
      "hashed pass is: aecfc689b204a8ce0e9c6991299af5fb77ce9ea1\n",
      "b'\\xae\\xcf\\xc6\\x89\\xb2\\x04\\xa8\\xce\\x0e\\x9ci\\x91)\\x9a\\xf5\\xfbw\\xce\\x9e\\xa1'\n",
      "sha1\n"
     ]
    }
   ],
   "source": [
    "passw='pavankumar'\n",
    "salt='fgh'\n",
    "dbs_passw=passw+salt\n",
    "\n",
    "hashed1=hl.sha1(dbs_passw.encode())\n",
    "print(\"hashed pass is:\",hashed1.hexdigest())\n",
    "print(hashed1.digest())\n",
    "print(hashed1.name)"
   ]
  },
  {
   "cell_type": "code",
   "execution_count": 5,
   "id": "e4e801d3",
   "metadata": {},
   "outputs": [
    {
     "name": "stdout",
     "output_type": "stream",
     "text": [
      "hashed pass is: ab1cd9f643801ccef0e8c28479c7aa4a976fdf81fe20c9ea952f0185\n",
      "b'\\xab\\x1c\\xd9\\xf6C\\x80\\x1c\\xce\\xf0\\xe8\\xc2\\x84y\\xc7\\xaaJ\\x97o\\xdf\\x81\\xfe \\xc9\\xea\\x95/\\x01\\x85'\n",
      "sha224\n"
     ]
    }
   ],
   "source": [
    "hashed2=hl.sha224(dbs_passw.encode())\n",
    "print(\"hashed pass is:\",hashed2.hexdigest())\n",
    "print(hashed2.digest())\n",
    "print(hashed2.name)\n"
   ]
  },
  {
   "cell_type": "code",
   "execution_count": 6,
   "id": "3250b597",
   "metadata": {},
   "outputs": [
    {
     "name": "stdout",
     "output_type": "stream",
     "text": [
      "hashed pass is: 3e32ea7dcfa36961235c47354f8894bd354e2c5323b734e405d4e6da7a909c95\n",
      "b'>2\\xea}\\xcf\\xa3ia#\\\\G5O\\x88\\x94\\xbd5N,S#\\xb74\\xe4\\x05\\xd4\\xe6\\xdaz\\x90\\x9c\\x95'\n",
      "sha256\n"
     ]
    }
   ],
   "source": [
    "hashed3=hl.sha256(dbs_passw.encode())\n",
    "print(\"hashed pass is:\",hashed3.hexdigest())\n",
    "print(hashed3.digest())\n",
    "print(hashed3.name)"
   ]
  },
  {
   "cell_type": "code",
   "execution_count": 7,
   "id": "66f3eadf",
   "metadata": {},
   "outputs": [
    {
     "name": "stdout",
     "output_type": "stream",
     "text": [
      "hashed pass is: 9417f3081714152f3f8f664ea9c2b71e1dc7dcda314e80a97aa3cf07b08cead1aa17bc2a0e9f250548a8382bb542fa83\n",
      "b'\\x94\\x17\\xf3\\x08\\x17\\x14\\x15/?\\x8ffN\\xa9\\xc2\\xb7\\x1e\\x1d\\xc7\\xdc\\xda1N\\x80\\xa9z\\xa3\\xcf\\x07\\xb0\\x8c\\xea\\xd1\\xaa\\x17\\xbc*\\x0e\\x9f%\\x05H\\xa88+\\xb5B\\xfa\\x83'\n",
      "sha3_384\n"
     ]
    }
   ],
   "source": [
    "hashed4=hl.sha3_384(dbs_passw.encode())\n",
    "print(\"hashed pass is:\",hashed4.hexdigest())\n",
    "print(hashed4.digest())\n",
    "print(hashed4.name)"
   ]
  },
  {
   "cell_type": "code",
   "execution_count": 8,
   "id": "382b84fd",
   "metadata": {},
   "outputs": [
    {
     "name": "stdout",
     "output_type": "stream",
     "text": [
      "hashed pass is: 2c762c01c904454117ea441cb2c3e290db3db5d42a07d5db3e1c156b85073930182262cb5c660c82e3b9f5b62602cee32a942d5d787f409b6d2634263c14f092\n",
      "b'\\x94\\x17\\xf3\\x08\\x17\\x14\\x15/?\\x8ffN\\xa9\\xc2\\xb7\\x1e\\x1d\\xc7\\xdc\\xda1N\\x80\\xa9z\\xa3\\xcf\\x07\\xb0\\x8c\\xea\\xd1\\xaa\\x17\\xbc*\\x0e\\x9f%\\x05H\\xa88+\\xb5B\\xfa\\x83'\n",
      "sha3_512\n"
     ]
    }
   ],
   "source": [
    "hashed5=hl.sha3_512(dbs_passw.encode())\n",
    "print(\"hashed pass is:\",hashed5.hexdigest())\n",
    "print(hashed4.digest())\n",
    "print(hashed5.name)"
   ]
  },
  {
   "cell_type": "code",
   "execution_count": 9,
   "id": "2b1e2f4b",
   "metadata": {},
   "outputs": [
    {
     "name": "stdout",
     "output_type": "stream",
     "text": [
      "hashed pass is: 53388277cf80ba4775e9faccd2c79b983d1fae8a4a3a49c9cde0df7112be3a77c789ac6786a2250111850de07ca46276be0913f067b6a0f0253f9226f19c8bd0\n",
      "b',v,\\x01\\xc9\\x04EA\\x17\\xeaD\\x1c\\xb2\\xc3\\xe2\\x90\\xdb=\\xb5\\xd4*\\x07\\xd5\\xdb>\\x1c\\x15k\\x85\\x0790\\x18\"b\\xcb\\\\f\\x0c\\x82\\xe3\\xb9\\xf5\\xb6&\\x02\\xce\\xe3*\\x94-]x\\x7f@\\x9bm&4&<\\x14\\xf0\\x92'\n",
      "sha512\n"
     ]
    }
   ],
   "source": [
    "hashed6=hl.sha512(dbs_passw.encode())\n",
    "print(\"hashed pass is:\",hashed6.hexdigest())\n",
    "print(hashed5.digest())\n",
    "print(hashed6.name)"
   ]
  },
  {
   "cell_type": "code",
   "execution_count": 10,
   "id": "2981b549",
   "metadata": {},
   "outputs": [
    {
     "name": "stdout",
     "output_type": "stream",
     "text": [
      "hashed pass is: 48143f066eaa0b824067b439cb9cea5bc70f2bd6e4e5f33c68ba208eb171867b1870ca0236ec847f869b124219fd83edfd00dae14546bb947ce45ad149dc1baeeaffc544951645552a3ddb75d3585b2c377082600548e337725024fd822acdba1d0178041789b5b76284f051d7f1e984ebc5344e5a9f89cf7f3ffea8b7ce16ca9de8b3cf8ebd79995537b6df759e7025186139dc50e1f15af618744fd06ce828c5cea51f64c7f83189da34fabdd2ac0f1a2bdde9a8ee617e084ed465b832744b773cb02c131a3ff65f477859c03331d04556898de7a564d1c053dc3a3417e9751c126036ac3544dc86925c3459b7bd18663ddfbc1e1d50dee58fc59e8a44c320e2158a0798ce945bda8c8e823355d3d589159aa2442881ce06b62311e50ff423431d05af5698166484309b07e42aa93e0060301f3097cd9849f61ca54b74606468c83d2980868404d6497c7a98c1895b14506275c76f10d5163f4ef34bc31867f2e9a35cf72252229bf01e4e721ff549e5e315cc4f20064426d9533a115068344e9fd24ce9b44c1aae615fdc75e211940fc102d49ee311447991ab67e130bceb19550614c2d38977cfad4625cfa8a2cd79bfcd61f85426f201cc6a688c116c42695e766bcd31bdd0804c827090462a929d6bd474a32717dd6f74dd55a6948879f977714f862e4ea52af1d6f82bdb9d3a7ee41855522c389ab247c49bfd28f449\n",
      "b'H\\x14?\\x06n\\xaa\\x0b\\x82@g\\xb49\\xcb\\x9c\\xea[\\xc7\\x0f+\\xd6\\xe4\\xe5\\xf3<h\\xba \\x8e\\xb1q\\x86{\\x18p\\xca\\x026\\xec\\x84\\x7f\\x86\\x9b\\x12B\\x19\\xfd\\x83\\xed\\xfd\\x00\\xda\\xe1EF\\xbb\\x94|\\xe4Z\\xd1I\\xdc\\x1b\\xae\\xea\\xff\\xc5D\\x95\\x16EU*=\\xdbu\\xd3X[,7p\\x82`\\x05H\\xe37rP$\\xfd\\x82*\\xcd\\xba\\x1d\\x01x\\x04\\x17\\x89\\xb5\\xb7b\\x84\\xf0Q\\xd7\\xf1\\xe9\\x84\\xeb\\xc54NZ\\x9f\\x89\\xcf\\x7f?\\xfe\\xa8\\xb7\\xce\\x16\\xca\\x9d\\xe8\\xb3\\xcf\\x8e\\xbdy\\x99U7\\xb6\\xdfu\\x9ep%\\x18a9\\xdcP\\xe1\\xf1Z\\xf6\\x18tO\\xd0l\\xe8(\\xc5\\xce\\xa5\\x1fd\\xc7\\xf81\\x89\\xda4\\xfa\\xbd\\xd2\\xac\\x0f\\x1a+\\xdd\\xe9\\xa8\\xeea~\\x08N\\xd4e\\xb82tKw<\\xb0,\\x13\\x1a?\\xf6_GxY\\xc031\\xd0EV\\x89\\x8d\\xe7\\xa5d\\xd1\\xc0S\\xdc:4\\x17\\xe9u\\x1c\\x12`6\\xac5D\\xdc\\x86\\x92\\\\4Y\\xb7\\xbd\\x18f=\\xdf\\xbc\\x1e\\x1dP\\xde\\xe5\\x8f\\xc5\\x9e\\x8aD\\xc3 \\xe2\\x15\\x8a\\x07\\x98\\xce\\x94[\\xda\\x8c\\x8e\\x823U\\xd3\\xd5\\x89\\x15\\x9a\\xa2D(\\x81\\xce\\x06\\xb6#\\x11\\xe5\\x0f\\xf4#C\\x1d\\x05\\xafV\\x98\\x16d\\x840\\x9b\\x07\\xe4*\\xa9>\\x00`0\\x1f0\\x97\\xcd\\x98I\\xf6\\x1c\\xa5Kt`dh\\xc8=)\\x80\\x86\\x84\\x04\\xd6I|z\\x98\\xc1\\x89[\\x14Pbu\\xc7o\\x10\\xd5\\x16?N\\xf3K\\xc3\\x18g\\xf2\\xe9\\xa3\\\\\\xf7\"R\"\\x9b\\xf0\\x1eNr\\x1f\\xf5I\\xe5\\xe3\\x15\\xccO \\x06D&\\xd9S:\\x11Ph4N\\x9f\\xd2L\\xe9\\xb4L\\x1a\\xaea_\\xdcu\\xe2\\x11\\x94\\x0f\\xc1\\x02\\xd4\\x9e\\xe3\\x11Dy\\x91\\xabg\\xe10\\xbc\\xeb\\x19U\\x06\\x14\\xc2\\xd3\\x89w\\xcf\\xadF%\\xcf\\xa8\\xa2\\xcdy\\xbf\\xcda\\xf8T&\\xf2\\x01\\xccjh\\x8c\\x11lBi^vk\\xcd1\\xbd\\xd0\\x80L\\x82p\\x90F*\\x92\\x9dk\\xd4t\\xa3\\'\\x17\\xddot\\xddU\\xa6\\x94\\x88y\\xf9wqO\\x86.N\\xa5*\\xf1\\xd6\\xf8+\\xdb\\x9d:~\\xe4\\x18UR,8\\x9a\\xb2G\\xc4\\x9b\\xfd(\\xf4I'\n",
      "shake_128\n"
     ]
    }
   ],
   "source": [
    "hashed7=hl.shake_128(dbs_passw.encode())\n",
    "print(\"hashed pass is:\",hashed7.hexdigest(512))\n",
    "print(hashed7.digest(512))\n",
    "print(hashed7.name)"
   ]
  },
  {
   "cell_type": "code",
   "execution_count": 11,
   "id": "d517b5aa",
   "metadata": {},
   "outputs": [
    {
     "name": "stdout",
     "output_type": "stream",
     "text": [
      "hashed pass is: 6ecbe2c422de3f12fc0330b92a2c1a762aa22a28ebd952364e2d517ff6491e8e386d5b21bda1e26de10128169536ac2f717091b13b98c1d1453b308669fbdc94f3939cfb74b903a1333112e76069ec064b0e9efc7adc1b114094cd45fde697de6920cac17b1cc859116af02c4768365e2c7d6f2091d9e02e09aabb164591dacf0f6e28f4ace197254e4f6934dbccee702043e1f199073a4b24d9079ca96754d8631ded58ccae54da645fed8fa6506e427e0ed48394470c3dd85b8bd188f559fe68206f65cd95e7fbfa0fadf2a246752754801017db1279a73165efd14e1d2e181792f4397463d8cda3bff58a0c25fff07e085b17f4cc4a910fd521381f1a9f076006c8b9210f4ff03d74516c163ceb0f0cf6d053cc5e66e76a17bb5b6c6a784cac36cd9e2bc41fbc912d2641b84bea3a35eb0e3cc2570a45f4f63f84521376bdb4a0a182405a7bbfd8d27248fe3f32fcfea84f4047797bda28c3710a47ed6f0f418182e900623f5644cbf831018848573c634cdb18cec2de850f6f7687b4a44f10e92e7f4b03764b766d17ae1bcdc69a7fa5390517f708cb5b40ff0b71550a15686664e7efbf81ed8880b158dfea5c29d2b7750552ef1add692bf1d1f94c100135e7259564a6fbd94ef3b396407c0fc34b794f4e570e68e3da6320e6828be96f46f99e7af1d0db20721015e66d8c75d7cfb5709619de820433a8aa1ff37c8a2f\n",
      "b'n\\xcb\\xe2\\xc4\"\\xde?\\x12\\xfc\\x030\\xb9*,\\x1av*\\xa2*(\\xeb\\xd9R6N-Q\\x7f\\xf6I\\x1e\\x8e8m[!\\xbd\\xa1\\xe2m\\xe1\\x01(\\x16\\x956\\xac/qp\\x91\\xb1;\\x98\\xc1\\xd1E;0\\x86i\\xfb\\xdc\\x94\\xf3\\x93\\x9c\\xfbt\\xb9\\x03\\xa131\\x12\\xe7`i\\xec\\x06K\\x0e\\x9e\\xfcz\\xdc\\x1b\\x11@\\x94\\xcdE\\xfd\\xe6\\x97\\xdei \\xca\\xc1{\\x1c\\xc8Y\\x11j\\xf0,Gh6^,}o \\x91\\xd9\\xe0.\\t\\xaa\\xbb\\x16E\\x91\\xda\\xcf\\x0fn(\\xf4\\xac\\xe1\\x97%NOi4\\xdb\\xcc\\xeep C\\xe1\\xf1\\x99\\x07:K$\\xd9\\x07\\x9c\\xa9gT\\xd8c\\x1d\\xedX\\xcc\\xaeT\\xdad_\\xed\\x8f\\xa6PnB~\\x0e\\xd4\\x83\\x94G\\x0c=\\xd8[\\x8b\\xd1\\x88\\xf5Y\\xfeh oe\\xcd\\x95\\xe7\\xfb\\xfa\\x0f\\xad\\xf2\\xa2Fu\\'T\\x80\\x10\\x17\\xdb\\x12y\\xa71e\\xef\\xd1N\\x1d.\\x18\\x17\\x92\\xf49tc\\xd8\\xcd\\xa3\\xbf\\xf5\\x8a\\x0c%\\xff\\xf0~\\x08[\\x17\\xf4\\xccJ\\x91\\x0f\\xd5!8\\x1f\\x1a\\x9f\\x07`\\x06\\xc8\\xb9!\\x0fO\\xf0=tQl\\x16<\\xeb\\x0f\\x0c\\xf6\\xd0S\\xcc^f\\xe7j\\x17\\xbb[ljxL\\xac6\\xcd\\x9e+\\xc4\\x1f\\xbc\\x91-&A\\xb8K\\xea:5\\xeb\\x0e<\\xc2W\\nE\\xf4\\xf6?\\x84R\\x13v\\xbd\\xb4\\xa0\\xa1\\x82@Z{\\xbf\\xd8\\xd2rH\\xfe?2\\xfc\\xfe\\xa8O@Gy{\\xda(\\xc3q\\nG\\xedo\\x0fA\\x81\\x82\\xe9\\x00b?VD\\xcb\\xf81\\x01\\x88HW<cL\\xdb\\x18\\xce\\xc2\\xde\\x85\\x0fov\\x87\\xb4\\xa4O\\x10\\xe9.\\x7fK\\x03vKvm\\x17\\xae\\x1b\\xcd\\xc6\\x9a\\x7f\\xa59\\x05\\x17\\xf7\\x08\\xcb[@\\xff\\x0bqU\\n\\x15hfd\\xe7\\xef\\xbf\\x81\\xed\\x88\\x80\\xb1X\\xdf\\xea\\\\)\\xd2\\xb7u\\x05R\\xef\\x1a\\xddi+\\xf1\\xd1\\xf9L\\x10\\x015\\xe7%\\x95d\\xa6\\xfb\\xd9N\\xf3\\xb3\\x96@|\\x0f\\xc3KyONW\\x0eh\\xe3\\xdac \\xe6\\x82\\x8b\\xe9oF\\xf9\\x9ez\\xf1\\xd0\\xdb r\\x10\\x15\\xe6m\\x8cu\\xd7\\xcf\\xb5p\\x96\\x19\\xde\\x82\\x043\\xa8\\xaa\\x1f\\xf3|\\x8a/'\n",
      "shake_256\n"
     ]
    }
   ],
   "source": [
    "\n",
    "hashed8=hl.shake_256(dbs_passw.encode())\n",
    "print(\"hashed pass is:\",hashed8.hexdigest(512))\n",
    "print(hashed8.digest(512))\n",
    "print(hashed8.name)"
   ]
  },
  {
   "cell_type": "code",
   "execution_count": 12,
   "id": "f248bb36",
   "metadata": {},
   "outputs": [],
   "source": [
    "pk='pkbchdbc55'\n",
    "l=pk.translate('pk')"
   ]
  },
  {
   "cell_type": "code",
   "execution_count": 13,
   "id": "3ba58dc6",
   "metadata": {},
   "outputs": [
    {
     "data": {
      "text/plain": [
       "'pkbchdbc55'"
      ]
     },
     "execution_count": 13,
     "metadata": {},
     "output_type": "execute_result"
    }
   ],
   "source": [
    "l"
   ]
  },
  {
   "cell_type": "code",
   "execution_count": null,
   "id": "4e42e589",
   "metadata": {},
   "outputs": [],
   "source": []
  },
  {
   "cell_type": "code",
   "execution_count": null,
   "id": "3b07c0b8",
   "metadata": {},
   "outputs": [],
   "source": []
  }
 ],
 "metadata": {
  "kernelspec": {
   "display_name": "Python 3 (ipykernel)",
   "language": "python",
   "name": "python3"
  },
  "language_info": {
   "codemirror_mode": {
    "name": "ipython",
    "version": 3
   },
   "file_extension": ".py",
   "mimetype": "text/x-python",
   "name": "python",
   "nbconvert_exporter": "python",
   "pygments_lexer": "ipython3",
   "version": "3.9.12"
  }
 },
 "nbformat": 4,
 "nbformat_minor": 5
}
