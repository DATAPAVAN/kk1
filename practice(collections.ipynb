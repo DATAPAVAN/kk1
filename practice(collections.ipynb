{
 "cells": [
  {
   "cell_type": "code",
   "execution_count": 1,
   "id": "64c5531d",
   "metadata": {},
   "outputs": [],
   "source": [
    "def infi(newlist):\n",
    "    size = len(newlist)\n",
    "    temp=newlist[0]\n",
    "    newlist[0]=newlist[size-1]\n",
    "    newlist[size-1]=temp\n",
    "    return newlist"
   ]
  },
  {
   "cell_type": "code",
   "execution_count": 2,
   "id": "d04cb00e",
   "metadata": {},
   "outputs": [],
   "source": [
    "l=[1,2,3,4]"
   ]
  },
  {
   "cell_type": "code",
   "execution_count": 3,
   "id": "a9157c97",
   "metadata": {},
   "outputs": [
    {
     "data": {
      "text/plain": [
       "[4, 2, 3, 1]"
      ]
     },
     "execution_count": 3,
     "metadata": {},
     "output_type": "execute_result"
    }
   ],
   "source": [
    "infi(l)"
   ]
  },
  {
   "cell_type": "code",
   "execution_count": 4,
   "id": "2185880b",
   "metadata": {},
   "outputs": [],
   "source": [
    "l=list(range(10))"
   ]
  },
  {
   "cell_type": "code",
   "execution_count": 5,
   "id": "91ee995e",
   "metadata": {},
   "outputs": [
    {
     "data": {
      "text/plain": [
       "[9, 1, 2, 3, 4, 5, 6, 7, 8, 0]"
      ]
     },
     "execution_count": 5,
     "metadata": {},
     "output_type": "execute_result"
    }
   ],
   "source": [
    "infi(l)"
   ]
  },
  {
   "cell_type": "code",
   "execution_count": 6,
   "id": "9fbb5865",
   "metadata": {},
   "outputs": [],
   "source": [
    "def swaplist(l):\n",
    "    l[0],l[-1] = l[-1],l[0]\n",
    "    return l"
   ]
  },
  {
   "cell_type": "code",
   "execution_count": 7,
   "id": "a6d0f313",
   "metadata": {},
   "outputs": [],
   "source": [
    "l1=list(range(15))"
   ]
  },
  {
   "cell_type": "code",
   "execution_count": 8,
   "id": "7b2cae80",
   "metadata": {},
   "outputs": [
    {
     "data": {
      "text/plain": [
       "[14, 1, 2, 3, 4, 5, 6, 7, 8, 9, 10, 11, 12, 13, 0]"
      ]
     },
     "execution_count": 8,
     "metadata": {},
     "output_type": "execute_result"
    }
   ],
   "source": [
    "swaplist(l1)"
   ]
  },
  {
   "cell_type": "code",
   "execution_count": 12,
   "id": "36794911",
   "metadata": {},
   "outputs": [],
   "source": [
    "def swlist(k):\n",
    "    initial,*middle,final=k\n",
    "    k=[final,*middle,initial]\n",
    "    return k"
   ]
  },
  {
   "cell_type": "code",
   "execution_count": 13,
   "id": "a61565f5",
   "metadata": {},
   "outputs": [],
   "source": [
    "k=list(range(10))"
   ]
  },
  {
   "cell_type": "code",
   "execution_count": 14,
   "id": "5ff794ed",
   "metadata": {},
   "outputs": [
    {
     "data": {
      "text/plain": [
       "[9, 1, 2, 3, 4, 5, 6, 7, 8, 0]"
      ]
     },
     "execution_count": 14,
     "metadata": {},
     "output_type": "execute_result"
    }
   ],
   "source": [
    "swlist(k)"
   ]
  },
  {
   "cell_type": "code",
   "execution_count": 19,
   "id": "8890e3b4",
   "metadata": {},
   "outputs": [],
   "source": [
    "def swap(list):\n",
    "    first=list.pop(0)\n",
    "    last=list.pop(-1)\n",
    "    list.append(first)\n",
    "    list.insert(0,last)\n",
    "    return list\n"
   ]
  },
  {
   "cell_type": "code",
   "execution_count": 20,
   "id": "fcf66bca",
   "metadata": {},
   "outputs": [],
   "source": [
    "l=list(range(6))"
   ]
  },
  {
   "cell_type": "code",
   "execution_count": 21,
   "id": "12ab6ffa",
   "metadata": {},
   "outputs": [
    {
     "data": {
      "text/plain": [
       "[5, 1, 2, 3, 4, 0]"
      ]
     },
     "execution_count": 21,
     "metadata": {},
     "output_type": "execute_result"
    }
   ],
   "source": [
    "swap(l)"
   ]
  },
  {
   "cell_type": "code",
   "execution_count": 22,
   "id": "002745c1",
   "metadata": {},
   "outputs": [
    {
     "data": {
      "text/plain": [
       "5"
      ]
     },
     "execution_count": 22,
     "metadata": {},
     "output_type": "execute_result"
    }
   ],
   "source": [
    "l.pop(0)"
   ]
  },
  {
   "cell_type": "code",
   "execution_count": 23,
   "id": "c7a77e51",
   "metadata": {},
   "outputs": [
    {
     "data": {
      "text/plain": [
       "[1, 2, 3, 4, 0]"
      ]
     },
     "execution_count": 23,
     "metadata": {},
     "output_type": "execute_result"
    }
   ],
   "source": [
    "l"
   ]
  },
  {
   "cell_type": "code",
   "execution_count": 24,
   "id": "818be3f8",
   "metadata": {},
   "outputs": [
    {
     "data": {
      "text/plain": [
       "0"
      ]
     },
     "execution_count": 24,
     "metadata": {},
     "output_type": "execute_result"
    }
   ],
   "source": [
    "l.pop(-1)"
   ]
  },
  {
   "cell_type": "code",
   "execution_count": 26,
   "id": "39650954",
   "metadata": {},
   "outputs": [],
   "source": [
    "## swapping first last elements in the list ##"
   ]
  },
  {
   "cell_type": "code",
   "execution_count": 27,
   "id": "2ac04727",
   "metadata": {},
   "outputs": [
    {
     "data": {
      "text/plain": [
       "[1, 2, 3, 4]"
      ]
     },
     "execution_count": 27,
     "metadata": {},
     "output_type": "execute_result"
    }
   ],
   "source": [
    "l"
   ]
  },
  {
   "cell_type": "code",
   "execution_count": 33,
   "id": "7ee74fa4",
   "metadata": {},
   "outputs": [
    {
     "name": "stdout",
     "output_type": "stream",
     "text": [
      "the original list is : [1, 2, 3, 4]\n",
      "evenelement span : 2\n"
     ]
    }
   ],
   "source": [
    "print('the original list is :',l)\n",
    "indices_list=[i for i in range(len(l)) if l[i]%2==0]\n",
    "diff=indices_list[-1]-indices_list[0]\n",
    "print('evenelement span :',diff)"
   ]
  },
  {
   "cell_type": "code",
   "execution_count": 34,
   "id": "39f49e84",
   "metadata": {},
   "outputs": [
    {
     "ename": "SyntaxError",
     "evalue": "invalid syntax (2694905121.py, line 1)",
     "output_type": "error",
     "traceback": [
      "\u001b[1;36m  Input \u001b[1;32mIn [34]\u001b[1;36m\u001b[0m\n\u001b[1;33m    i for i in l is x^2\u001b[0m\n\u001b[1;37m      ^\u001b[0m\n\u001b[1;31mSyntaxError\u001b[0m\u001b[1;31m:\u001b[0m invalid syntax\n"
     ]
    }
   ],
   "source": [
    "i for i in l is x^2"
   ]
  },
  {
   "cell_type": "code",
   "execution_count": 35,
   "id": "4d7fba10",
   "metadata": {},
   "outputs": [
    {
     "ename": "SyntaxError",
     "evalue": "invalid syntax (3485325538.py, line 1)",
     "output_type": "error",
     "traceback": [
      "\u001b[1;36m  Input \u001b[1;32mIn [35]\u001b[1;36m\u001b[0m\n\u001b[1;33m    i**2 for i in l\u001b[0m\n\u001b[1;37m         ^\u001b[0m\n\u001b[1;31mSyntaxError\u001b[0m\u001b[1;31m:\u001b[0m invalid syntax\n"
     ]
    }
   ],
   "source": [
    "i**2 for i in l"
   ]
  },
  {
   "cell_type": "code",
   "execution_count": 40,
   "id": "38bd5f73",
   "metadata": {},
   "outputs": [],
   "source": [
    "a=[i**2 for i in l if i%2!=0]"
   ]
  },
  {
   "cell_type": "code",
   "execution_count": 41,
   "id": "e71e8565",
   "metadata": {},
   "outputs": [
    {
     "data": {
      "text/plain": [
       "[1, 9]"
      ]
     },
     "execution_count": 41,
     "metadata": {},
     "output_type": "execute_result"
    }
   ],
   "source": [
    "a"
   ]
  },
  {
   "cell_type": "code",
   "execution_count": 46,
   "id": "b161a31f",
   "metadata": {},
   "outputs": [],
   "source": [
    "def evelspan(l):\n",
    "    indices_l=list(filter(lambda x:l[x]%2==0,range(len(l))))\n",
    "    res=indices_l[-1]-indices_l[0]\n",
    "    return res\n",
    "    "
   ]
  },
  {
   "cell_type": "code",
   "execution_count": 47,
   "id": "787f1b04",
   "metadata": {},
   "outputs": [
    {
     "data": {
      "text/plain": [
       "2"
      ]
     },
     "execution_count": 47,
     "metadata": {},
     "output_type": "execute_result"
    }
   ],
   "source": [
    "evelspan(l)"
   ]
  },
  {
   "cell_type": "code",
   "execution_count": 49,
   "id": "5ca329c8",
   "metadata": {},
   "outputs": [
    {
     "name": "stdout",
     "output_type": "stream",
     "text": [
      "addition of first and last digit in a number : 9\n"
     ]
    }
   ],
   "source": [
    "p=15648\n",
    "p=str(p)\n",
    "f_d,l_d=int(p[0]),int(p[-1])\n",
    "add=f_d+l_d\n",
    "print('addition of first and last digit in a number :',add)"
   ]
  },
  {
   "cell_type": "code",
   "execution_count": 50,
   "id": "2b74cd75",
   "metadata": {},
   "outputs": [
    {
     "name": "stdout",
     "output_type": "stream",
     "text": [
      "<built-in method upper of str object at 0x00000174D57819B0>\n"
     ]
    }
   ],
   "source": [
    "n='nalla krishna'\n",
    "print(n.upper)"
   ]
  },
  {
   "cell_type": "code",
   "execution_count": 51,
   "id": "b7fc52a0",
   "metadata": {},
   "outputs": [
    {
     "data": {
      "text/plain": [
       "<function str.upper()>"
      ]
     },
     "execution_count": 51,
     "metadata": {},
     "output_type": "execute_result"
    }
   ],
   "source": [
    "n.upper"
   ]
  },
  {
   "cell_type": "code",
   "execution_count": 52,
   "id": "a2d3f552",
   "metadata": {},
   "outputs": [
    {
     "data": {
      "text/plain": [
       "'NALLA KRISHNA'"
      ]
     },
     "execution_count": 52,
     "metadata": {},
     "output_type": "execute_result"
    }
   ],
   "source": [
    "n.upper()"
   ]
  },
  {
   "cell_type": "code",
   "execution_count": 53,
   "id": "3db5bc42",
   "metadata": {},
   "outputs": [
    {
     "data": {
      "text/plain": [
       "'Nalla krishna'"
      ]
     },
     "execution_count": 53,
     "metadata": {},
     "output_type": "execute_result"
    }
   ],
   "source": [
    "n.capitalize()"
   ]
  },
  {
   "cell_type": "code",
   "execution_count": 54,
   "id": "dafde4c1",
   "metadata": {},
   "outputs": [
    {
     "data": {
      "text/plain": [
       "'Nalla Krishna'"
      ]
     },
     "execution_count": 54,
     "metadata": {},
     "output_type": "execute_result"
    }
   ],
   "source": [
    "n.title()"
   ]
  },
  {
   "cell_type": "code",
   "execution_count": 55,
   "id": "e2264904",
   "metadata": {},
   "outputs": [],
   "source": [
    "def infic(k):\n",
    "    k[0],k[-1]=k[0].upper,k[-1].upper()\n",
    "    return k"
   ]
  },
  {
   "cell_type": "code",
   "execution_count": 57,
   "id": "f6d0b56b",
   "metadata": {},
   "outputs": [
    {
     "ename": "TypeError",
     "evalue": "'str' object does not support item assignment",
     "output_type": "error",
     "traceback": [
      "\u001b[1;31m---------------------------------------------------------------------------\u001b[0m",
      "\u001b[1;31mTypeError\u001b[0m                                 Traceback (most recent call last)",
      "Input \u001b[1;32mIn [57]\u001b[0m, in \u001b[0;36m<cell line: 2>\u001b[1;34m()\u001b[0m\n\u001b[0;32m      1\u001b[0m l\u001b[38;5;241m=\u001b[39m\u001b[38;5;124m'\u001b[39m\u001b[38;5;124mkrishna nalla madda\u001b[39m\u001b[38;5;124m'\u001b[39m\n\u001b[1;32m----> 2\u001b[0m \u001b[43minfic\u001b[49m\u001b[43m(\u001b[49m\u001b[43ml\u001b[49m\u001b[43m)\u001b[49m\n",
      "Input \u001b[1;32mIn [55]\u001b[0m, in \u001b[0;36minfic\u001b[1;34m(k)\u001b[0m\n\u001b[0;32m      1\u001b[0m \u001b[38;5;28;01mdef\u001b[39;00m \u001b[38;5;21minfic\u001b[39m(k):\n\u001b[1;32m----> 2\u001b[0m     k[\u001b[38;5;241m0\u001b[39m],k[\u001b[38;5;241m-\u001b[39m\u001b[38;5;241m1\u001b[39m]\u001b[38;5;241m=\u001b[39mk[\u001b[38;5;241m0\u001b[39m]\u001b[38;5;241m.\u001b[39mupper,k[\u001b[38;5;241m-\u001b[39m\u001b[38;5;241m1\u001b[39m]\u001b[38;5;241m.\u001b[39mupper()\n\u001b[0;32m      3\u001b[0m     \u001b[38;5;28;01mreturn\u001b[39;00m k\n",
      "\u001b[1;31mTypeError\u001b[0m: 'str' object does not support item assignment"
     ]
    }
   ],
   "source": [
    "l='krishna nalla madda'\n",
    "infic(l)"
   ]
  },
  {
   "cell_type": "code",
   "execution_count": 58,
   "id": "9e45a32b",
   "metadata": {},
   "outputs": [
    {
     "data": {
      "text/plain": [
       "['krishna', 'nalla', 'madda']"
      ]
     },
     "execution_count": 58,
     "metadata": {},
     "output_type": "execute_result"
    }
   ],
   "source": [
    "l.split()"
   ]
  },
  {
   "cell_type": "code",
   "execution_count": 61,
   "id": "39162e7a",
   "metadata": {},
   "outputs": [
    {
     "name": "stdout",
     "output_type": "stream",
     "text": [
      "initial string : krishna nalla madda\n",
      "final string : KrishnA NallA MaddA\n"
     ]
    }
   ],
   "source": [
    "print('initial string :',l)\n",
    "m=l.split()\n",
    "n=[]\n",
    "for i in m:\n",
    "    x=i[0].upper()+i[1:-1]+i[-1].upper()\n",
    "    n.append(x)\n",
    "n=' '.join(n)\n",
    "print('final string :',n)\n"
   ]
  },
  {
   "cell_type": "code",
   "execution_count": 66,
   "id": "b2085c31",
   "metadata": {},
   "outputs": [],
   "source": [
    "def sepin(l):\n",
    "    a=l.split()\n",
    "    b=[a[0],' '.join(a[1::])]\n",
    "    return b\n",
    "    "
   ]
  },
  {
   "cell_type": "code",
   "execution_count": 67,
   "id": "23dd97b1",
   "metadata": {},
   "outputs": [
    {
     "data": {
      "text/plain": [
       "['krishna', 'nalla madda']"
      ]
     },
     "execution_count": 67,
     "metadata": {},
     "output_type": "execute_result"
    }
   ],
   "source": [
    "sepin(l)"
   ]
  },
  {
   "cell_type": "code",
   "execution_count": 69,
   "id": "f4d5615a",
   "metadata": {},
   "outputs": [],
   "source": [
    "nalla_krishna=[1,2,3,4,45]"
   ]
  },
  {
   "cell_type": "code",
   "execution_count": 77,
   "id": "bf275806",
   "metadata": {},
   "outputs": [],
   "source": [
    "def soe(l):\n",
    "    print('the original name:',l)\n",
    "    odd_i=[]\n",
    "    even_i=[]\n",
    "    for i in range(len(l)):\n",
    "        if i%2 :\n",
    "            even_i.append(l[i])\n",
    "        else:\n",
    "            odd_i.append(l[i])\n",
    "    x=even_i+odd_i\n",
    "    print('seperated even and odd number:',x)\n",
    "        "
   ]
  },
  {
   "cell_type": "code",
   "execution_count": 78,
   "id": "ae4801ca",
   "metadata": {},
   "outputs": [
    {
     "name": "stdout",
     "output_type": "stream",
     "text": [
      "the original name: krishna nalla madda\n",
      "seperated even and odd number: ['r', 's', 'n', ' ', 'a', 'l', ' ', 'a', 'd', 'k', 'i', 'h', 'a', 'n', 'l', 'a', 'm', 'd', 'a']\n"
     ]
    }
   ],
   "source": [
    "soe(l)"
   ]
  },
  {
   "cell_type": "code",
   "execution_count": 89,
   "id": "98f783a1",
   "metadata": {},
   "outputs": [],
   "source": [
    "def soe1(k):\n",
    "    print('the initial variable:',k)\n",
    "    sep=list(k[1::2]+k[::2])\n",
    "    print('final list:',sep)"
   ]
  },
  {
   "cell_type": "code",
   "execution_count": 90,
   "id": "02ee5bab",
   "metadata": {},
   "outputs": [
    {
     "name": "stdout",
     "output_type": "stream",
     "text": [
      "the initial variable: krishna nalla madda\n",
      "final list: ['r', 's', 'n', ' ', 'a', 'l', ' ', 'a', 'd', 'k', 'i', 'h', 'a', 'n', 'l', 'a', 'm', 'd', 'a']\n"
     ]
    }
   ],
   "source": [
    "soe1(l)"
   ]
  },
  {
   "cell_type": "code",
   "execution_count": 91,
   "id": "07078175",
   "metadata": {},
   "outputs": [],
   "source": [
    "l=list(range(15))"
   ]
  },
  {
   "cell_type": "code",
   "execution_count": 92,
   "id": "a3abf8e8",
   "metadata": {},
   "outputs": [
    {
     "data": {
      "text/plain": [
       "[0, 1, 2, 3, 4, 5, 6, 7, 8, 9, 10, 11, 12, 13, 14]"
      ]
     },
     "execution_count": 92,
     "metadata": {},
     "output_type": "execute_result"
    }
   ],
   "source": [
    "l"
   ]
  },
  {
   "cell_type": "code",
   "execution_count": 104,
   "id": "faeb2cac",
   "metadata": {},
   "outputs": [
    {
     "name": "stdout",
     "output_type": "stream",
     "text": [
      "count of even numbers : 3\n",
      "count of even numbers : 3\n"
     ]
    }
   ],
   "source": [
    "l=[1,2,3,4,5,6]\n",
    "even_count,odd_count=0,0\n",
    "for i in l:\n",
    "    if i%2==0:\n",
    "        even_count+=1\n",
    "     \n",
    "    else:\n",
    "        odd_count+=1\n",
    "print('count of even numbers :',even_count)\n",
    "print('count of even numbers :',odd_count)\n",
    "      \n"
   ]
  },
  {
   "cell_type": "code",
   "execution_count": 2,
   "id": "a1961cea",
   "metadata": {},
   "outputs": [
    {
     "name": "stdout",
     "output_type": "stream",
     "text": [
      "count of even numbers: 4\n",
      "count of odd numbers : 4\n"
     ]
    }
   ],
   "source": [
    "l=[1,23,24,5,6,7,8,98]\n",
    "only_odd=[i for i in l if i%2==1]\n",
    "odd_count=len(only_odd)\n",
    "even_count=len(l)-odd_count\n",
    "print('count of even numbers:',even_count)\n",
    "print('count of odd numbers :',odd_count)"
   ]
  },
  {
   "cell_type": "code",
   "execution_count": 3,
   "id": "948b2e1b",
   "metadata": {},
   "outputs": [
    {
     "data": {
      "text/plain": [
       "<enumerate at 0x1d691ba9c40>"
      ]
     },
     "execution_count": 3,
     "metadata": {},
     "output_type": "execute_result"
    }
   ],
   "source": [
    "enumerate(l)"
   ]
  },
  {
   "cell_type": "code",
   "execution_count": 4,
   "id": "d553e773",
   "metadata": {},
   "outputs": [
    {
     "data": {
      "text/plain": [
       "[(0, 1), (1, 23), (2, 24), (3, 5), (4, 6), (5, 7), (6, 8), (7, 98)]"
      ]
     },
     "execution_count": 4,
     "metadata": {},
     "output_type": "execute_result"
    }
   ],
   "source": [
    "list(enumerate(l))"
   ]
  },
  {
   "cell_type": "code",
   "execution_count": 5,
   "id": "0444f68a",
   "metadata": {},
   "outputs": [
    {
     "data": {
      "text/plain": [
       "[(10, 1), (11, 23), (12, 24), (13, 5), (14, 6), (15, 7), (16, 8), (17, 98)]"
      ]
     },
     "execution_count": 5,
     "metadata": {},
     "output_type": "execute_result"
    }
   ],
   "source": [
    "list(enumerate(l,10))"
   ]
  },
  {
   "cell_type": "code",
   "execution_count": 11,
   "id": "9d53092e",
   "metadata": {},
   "outputs": [
    {
     "name": "stdout",
     "output_type": "stream",
     "text": [
      "even count : 5    odd count : 5\n"
     ]
    }
   ],
   "source": [
    "l1=list(range(10));c0=0;c1=0\n",
    "for i in l1:\n",
    "    if i%2==1:\n",
    "        c0+=1\n",
    "    else:\n",
    "        c1+=1\n",
    "print('even count :',c0  ,'   odd count :',c1)\n",
    "        \n"
   ]
  },
  {
   "cell_type": "code",
   "execution_count": 9,
   "id": "282d95ab",
   "metadata": {},
   "outputs": [
    {
     "data": {
      "text/plain": [
       "[0, 1, 2, 3, 4, 5, 6, 7, 8, 9]"
      ]
     },
     "execution_count": 9,
     "metadata": {},
     "output_type": "execute_result"
    }
   ],
   "source": [
    "l1"
   ]
  },
  {
   "cell_type": "code",
   "execution_count": 16,
   "id": "f714becc",
   "metadata": {},
   "outputs": [
    {
     "name": "stdout",
     "output_type": "stream",
     "text": [
      "(0, 'pavan')\n",
      "(1, 'kumar')\n",
      "(2, 'uppala')\n",
      "50 pavan\n",
      "51 kumar\n",
      "52 uppala\n",
      "0\n",
      "pavan\n",
      "1\n",
      "kumar\n",
      "2\n",
      "uppala\n"
     ]
    }
   ],
   "source": [
    "l='pavan kumar uppala'\n",
    "a=l.split()\n",
    "for ele in enumerate(a):\n",
    "    print(ele)\n",
    "for index,ele in enumerate(a,50):\n",
    "    print(index,ele)\n",
    "for index,ele in enumerate(a):\n",
    "    print(index)\n",
    "    print(ele)\n",
    "    \n"
   ]
  },
  {
   "cell_type": "code",
   "execution_count": null,
   "id": "64363e6a",
   "metadata": {},
   "outputs": [],
   "source": [
    "## updating a dictionary ##"
   ]
  },
  {
   "cell_type": "code",
   "execution_count": 20,
   "id": "374999a8",
   "metadata": {},
   "outputs": [
    {
     "name": "stdout",
     "output_type": "stream",
     "text": [
      "the initial dictionary is : {'pk': 2, 'ku': 3, 'rr': 0}\n",
      "the final dictionary is : {'pk': 2, 'ku': 3, 'rr': 0, 'km': 2, 'rru': 0, 'pku': 1, 'pavan': 4}\n"
     ]
    }
   ],
   "source": [
    "d={'pk':2,'ku':3,'rr':0}\n",
    "print('the initial dictionary is :',d)\n",
    "d1=[{'km':2,'rru':0,'pku':1,'pavan':4}]\n",
    "for i in d1:\n",
    "    d.update(i)\n",
    "print('the final dictionary is :',d)"
   ]
  },
  {
   "cell_type": "code",
   "execution_count": 21,
   "id": "85d79dc6",
   "metadata": {},
   "outputs": [
    {
     "name": "stdout",
     "output_type": "stream",
     "text": [
      "the original dictionary : {'pkg': 4, 'ku': 5, 'mar': 6}\n",
      "the dictionary after triple even keys value : {'pkg': 12, 'ku': 5, 'mar': 18}\n"
     ]
    }
   ],
   "source": [
    "td={'pkg':4,'ku':5,'mar':6}\n",
    "print('the original dictionary :',td)\n",
    "for i in td:\n",
    "    if td[i]%2==0:\n",
    "        td[i]*=3\n",
    "print('the dictionary after triple even keys value :',td) "
   ]
  },
  {
   "cell_type": "code",
   "execution_count": 22,
   "id": "d79449b7",
   "metadata": {},
   "outputs": [
    {
     "name": "stdout",
     "output_type": "stream",
     "text": [
      "the original dictionary : {'pkg': 4, 'ku': 5, 'mar': 6}\n"
     ]
    },
    {
     "ename": "TypeError",
     "evalue": "not all arguments converted during string formatting",
     "output_type": "error",
     "traceback": [
      "\u001b[1;31m---------------------------------------------------------------------------\u001b[0m",
      "\u001b[1;31mTypeError\u001b[0m                                 Traceback (most recent call last)",
      "Input \u001b[1;32mIn [22]\u001b[0m, in \u001b[0;36m<cell line: 3>\u001b[1;34m()\u001b[0m\n\u001b[0;32m      2\u001b[0m \u001b[38;5;28mprint\u001b[39m(\u001b[38;5;124m'\u001b[39m\u001b[38;5;124mthe original dictionary :\u001b[39m\u001b[38;5;124m'\u001b[39m,td)\n\u001b[0;32m      3\u001b[0m \u001b[38;5;28;01mfor\u001b[39;00m i \u001b[38;5;129;01min\u001b[39;00m td:\n\u001b[1;32m----> 4\u001b[0m     \u001b[38;5;28;01mif\u001b[39;00m \u001b[43mi\u001b[49m\u001b[38;5;241;43m%\u001b[39;49m\u001b[38;5;241;43m2\u001b[39;49m\u001b[38;5;241m==\u001b[39m\u001b[38;5;241m0\u001b[39m:\n\u001b[0;32m      5\u001b[0m         i\u001b[38;5;241m*\u001b[39m\u001b[38;5;241m=\u001b[39m\u001b[38;5;241m3\u001b[39m\n\u001b[0;32m      6\u001b[0m \u001b[38;5;28mprint\u001b[39m(\u001b[38;5;124m'\u001b[39m\u001b[38;5;124mthe dictionary after triple even keys value :\u001b[39m\u001b[38;5;124m'\u001b[39m,td)\n",
      "\u001b[1;31mTypeError\u001b[0m: not all arguments converted during string formatting"
     ]
    }
   ],
   "source": [
    "td={'pkg':4,'ku':5,'mar':6}\n",
    "print('the original dictionary :',td)\n",
    "for i in td:\n",
    "    if i%2==0:\n",
    "        i*=3\n",
    "print('the dictionary after triple even keys value :',td)"
   ]
  },
  {
   "cell_type": "code",
   "execution_count": 23,
   "id": "b3b9fcfe",
   "metadata": {},
   "outputs": [
    {
     "data": {
      "text/plain": [
       "dict_keys(['pkg', 'ku', 'mar'])"
      ]
     },
     "execution_count": 23,
     "metadata": {},
     "output_type": "execute_result"
    }
   ],
   "source": [
    "td.keys()"
   ]
  },
  {
   "cell_type": "code",
   "execution_count": 28,
   "id": "f61370d8",
   "metadata": {},
   "outputs": [
    {
     "name": "stdout",
     "output_type": "stream",
     "text": [
      "4\n",
      "5\n",
      "6\n"
     ]
    }
   ],
   "source": [
    "for key in td:\n",
    "    print(td[key])"
   ]
  },
  {
   "cell_type": "code",
   "execution_count": 29,
   "id": "035d67ed",
   "metadata": {},
   "outputs": [
    {
     "data": {
      "text/plain": [
       "dict_items([('pkg', 4), ('ku', 5), ('mar', 6)])"
      ]
     },
     "execution_count": 29,
     "metadata": {},
     "output_type": "execute_result"
    }
   ],
   "source": [
    "td.items()"
   ]
  },
  {
   "cell_type": "code",
   "execution_count": 32,
   "id": "3decc6c5",
   "metadata": {},
   "outputs": [
    {
     "name": "stdout",
     "output_type": "stream",
     "text": [
      "the original dictionary is : {'Gfg': (5, 6), 'is': (7, 8), 'best': (10, 11)}\n",
      "the edited tuple balues are : {'Gfg': (15, 18), 'is': (21, 24), 'best': (30, 33)}\n"
     ]
    }
   ],
   "source": [
    "test_dict = {'Gfg' : (5, 6), 'is' : (7, 8), 'best' : (10, 11)}\n",
    "print('the original dictionary is :',test_dict)\n",
    "d={key:tuple(i*3 for i in val)\n",
    "      for key,val in test_dict.items()}\n",
    "print('the edited tuple balues are :',d)\n"
   ]
  },
  {
   "cell_type": "code",
   "execution_count": 1,
   "id": "18ca6273",
   "metadata": {},
   "outputs": [],
   "source": [
    "from collections import Counter"
   ]
  },
  {
   "cell_type": "code",
   "execution_count": 2,
   "id": "2cfc12ed",
   "metadata": {},
   "outputs": [
    {
     "name": "stdout",
     "output_type": "stream",
     "text": [
      "['p', 'p', 'p', 'p', 'k', 'k', 'l', 'l', 'l', 'l', 'l', 'l', 'l', 'l']\n"
     ]
    }
   ],
   "source": [
    "c=Counter(p=4,k=2,l=8,n=0,m=-9)\n",
    "print(list(c.elements()))"
   ]
  },
  {
   "cell_type": "code",
   "execution_count": 6,
   "id": "9f11e7b2",
   "metadata": {},
   "outputs": [
    {
     "name": "stdout",
     "output_type": "stream",
     "text": [
      "initial string is : pavan kumaruppala jhvdjcvdkhckgci\n",
      "most common 5 characters of string : [('a', 5), ('p', 3), ('v', 3), ('k', 3), ('c', 3), (' ', 2), ('u', 2), ('j', 2), ('h', 2), ('d', 2), ('n', 1), ('m', 1), ('r', 1), ('l', 1), ('g', 1), ('i', 1)]\n"
     ]
    }
   ],
   "source": [
    "d='pavan kumaruppala jhvdjcvdkhckgci'\n",
    "print('initial string is :',d)\n",
    "print('most common 5 characters of string :',Counter(d).most_common(20))"
   ]
  },
  {
   "cell_type": "code",
   "execution_count": 19,
   "id": "cd8add7a",
   "metadata": {},
   "outputs": [
    {
     "name": "stdout",
     "output_type": "stream",
     "text": [
      "no of words ;2\n",
      "input the words:\n",
      "jhvjv\n",
      "jhvjcjv\n",
      "2\n",
      "1 1 "
     ]
    }
   ],
   "source": [
    "from collections import Counter,OrderedDict\n",
    "class OrderedCounter(Counter,OrderedDict):\n",
    "    pass\n",
    "word_array=[]\n",
    "n=int(input('no of words ;'))\n",
    "print('input the words:')\n",
    "for i in range(n):\n",
    "    word_array.append(input())\n",
    "    word_ctr=OrderedCounter(word_array)\n",
    "print(len(word_ctr))\n",
    "for word in word_ctr:\n",
    "    print(word_ctr[word],end=' ')"
   ]
  },
  {
   "cell_type": "code",
   "execution_count": 2,
   "id": "cf30c459",
   "metadata": {},
   "outputs": [
    {
     "name": "stdout",
     "output_type": "stream",
     "text": [
      "pavan\n",
      "kumar\n",
      "uppala\n",
      "deque(['pavan', 'kumar', 'uppala'])\n",
      "\n",
      "adding left : \n",
      "good\n",
      "deque(['good', 'pavan', 'kumar', 'uppala'])\n",
      "\n",
      "adding right :\n",
      "bad\n",
      "deque(['good', 'pavan', 'kumar', 'uppala', 'bad'])\n",
      "\n",
      "removing left :\n",
      "deque(['pavan', 'kumar', 'uppala', 'bad'])\n",
      "\n",
      "removing right : \n",
      "deque(['pavan', 'kumar', 'uppala'])\n",
      "\n",
      "reversing the list :\n",
      "deque(['uppala', 'kumar', 'pavan'])\n"
     ]
    }
   ],
   "source": [
    "import collections\n",
    "deque_colours=collections.deque([input(),input(),input()])\n",
    "print(deque_colours)\n",
    "print('\\nadding left : ')\n",
    "deque_colours.appendleft(input())\n",
    "print(deque_colours)\n",
    "print('\\nadding right :')\n",
    "deque_colours.append(input())\n",
    "print(deque_colours)\n",
    "print('\\nremoving left :')\n",
    "deque_colours.popleft()\n",
    "print(deque_colours)\n",
    "print('\\nremoving right : ')\n",
    "deque_colours.pop()\n",
    "print(deque_colours)\n",
    "print('\\nreversing the list :')\n",
    "deque_colours.reverse()\n",
    "print(deque_colours)\n"
   ]
  },
  {
   "cell_type": "code",
   "execution_count": null,
   "id": "ebfb0395",
   "metadata": {},
   "outputs": [],
   "source": [
    "## to add more values with a variable in deque##\n"
   ]
  },
  {
   "cell_type": "code",
   "execution_count": 4,
   "id": "ac4fb5c8",
   "metadata": {},
   "outputs": [
    {
     "name": "stdout",
     "output_type": "stream",
     "text": [
      "initial deque is : deque([2, 4, 6, 8, 10, 12])\n",
      "final deque is : deque([2, 4, 6, 8, 10, 12, 14, 16, 18, 20, 22, 20])\n"
     ]
    }
   ],
   "source": [
    "import collections\n",
    "e_n=(2,4,6,8,10,12);exe_n=(14,16,18,20,22,20)\n",
    "e_d=collections.deque(e_n)\n",
    "print('initial deque is :',e_d)\n",
    "e_d.extend(exe_n)\n",
    "print('final deque is :',e_d)\n"
   ]
  },
  {
   "cell_type": "code",
   "execution_count": 5,
   "id": "1380d5a3",
   "metadata": {},
   "outputs": [],
   "source": [
    "## removing all elements in deque##\n"
   ]
  },
  {
   "cell_type": "code",
   "execution_count": 8,
   "id": "a277cf2a",
   "metadata": {},
   "outputs": [
    {
     "name": "stdout",
     "output_type": "stream",
     "text": [
      "the initial deque is : deque([1, 3, 5, 7, 9, 11])\n",
      "the final deque and length is : deque([]) 0\n"
     ]
    }
   ],
   "source": [
    "import collections\n",
    "o_n=(1,3,5,7,9,11);exo_n=(13,15,17)\n",
    "o_d=collections.deque(o_n);print('the initial deque is :',o_d)\n",
    "o_d.clear();print('the final deque and length is :',o_d,len(o_d))\n"
   ]
  },
  {
   "cell_type": "code",
   "execution_count": 9,
   "id": "63b797f5",
   "metadata": {},
   "outputs": [],
   "source": [
    "## rotation of a deque##"
   ]
  },
  {
   "cell_type": "code",
   "execution_count": 15,
   "id": "d27d0c22",
   "metadata": {},
   "outputs": [
    {
     "name": "stdout",
     "output_type": "stream",
     "text": [
      " the initial deque is : deque([1, 3, 5, 7, 9, 11])\n",
      "deque afer 1 positive rotation : deque([11, 1, 3, 5, 7, 9])\n",
      "after 2 positive rotations : deque([7, 9, 11, 1, 3, 5])\n",
      "after 3 poitive rotations : deque([1, 3, 5, 7, 9, 11])\n",
      "after 1 negative rotations : deque([6, 8, 10, 12, 14, 16, 18, 20, 22, 20, 2, 4])\n",
      "after 2 negative rotations : deque([12, 14, 16, 18, 20, 22, 20, 2, 4, 6, 8, 10])\n"
     ]
    }
   ],
   "source": [
    "o_n=(1, 3, 5, 7, 9, 11)\n",
    "o_d=collections.deque(o_n);print(' the initial deque is :',o_d)\n",
    "o_d.rotate();print('deque afer 1 positive rotation :',o_d)\n",
    "o_d.rotate(2);print('after 2 positive rotations :',o_d)\n",
    "o_d.rotate(3);print('after 3 poitive rotations :',o_d)\n",
    "e_d.rotate(-1);print('after 1 negative rotations :',e_d)\n",
    "e_d.rotate(-3);print('after 2 negative rotations :',e_d)"
   ]
  },
  {
   "cell_type": "code",
   "execution_count": 16,
   "id": "ec6753ba",
   "metadata": {},
   "outputs": [],
   "source": [
    "## most common element of a list##"
   ]
  },
  {
   "cell_type": "code",
   "execution_count": 18,
   "id": "608efa17",
   "metadata": {},
   "outputs": [
    {
     "name": "stdout",
     "output_type": "stream",
     "text": [
      "original list : ['pkg', 'pkg', 'kumar', 'jhcguf']\n",
      "most common element of the said list : [('pkg', 2), ('kumar', 1)]\n"
     ]
    }
   ],
   "source": [
    "from collections import Counter\n",
    "strings=['pkg','pkg','kumar','jhcguf'];print('original list :',strings)\n",
    "cnt=Counter(strings);print('most common element of the said list :',cnt.most_common(2))"
   ]
  },
  {
   "cell_type": "code",
   "execution_count": 19,
   "id": "3177e163",
   "metadata": {},
   "outputs": [],
   "source": [
    "## second lowest total marks of any students##"
   ]
  },
  {
   "cell_type": "code",
   "execution_count": 39,
   "id": "2027a602",
   "metadata": {},
   "outputs": [
    {
     "name": "stdout",
     "output_type": "stream",
     "text": [
      "input the no of the students :5\n",
      "name :pavan\n",
      "enter the marks :50\n",
      "name :lumar\n",
      "enter the marks :48\n",
      "name :uppala\n",
      "enter the marks :48\n",
      "name :asadhya\n",
      "enter the marks :22\n",
      "name :scb\n",
      "enter the marks :49\n",
      "names and marks of students : [['pavan', 50.0], ['lumar', 48.0], ['uppala', 48.0], ['asadhya', 22.0], ['scb', 49.0]]\n",
      "the sorted list is : [['asadhya', 22.0], ['lumar', 48.0], ['uppala', 48.0], ['scb', 49.0], ['pavan', 50.0]]\n",
      "3rd lowest mark is : 48.0\n",
      "names :\n",
      "lumar\n",
      "uppala\n"
     ]
    }
   ],
   "source": [
    "students=[]\n",
    "thirdlow=0\n",
    "n=int(input('input the no of the students :'))\n",
    "for i in range(n):\n",
    "    s_name=input('name :')\n",
    "    marks=float(input('enter the marks :'))\n",
    "    students.append([s_name,marks])\n",
    "print('names and marks of students :',students)\n",
    "order=sorted(students,key=lambda x:int(x[1]));print('the sorted list is :',order)\n",
    "for i1 in range(n):\n",
    "   thirdlow=order[2][1]\n",
    "   \n",
    "print('3rd lowest mark is :',thirdlow)\n",
    "thirdlow_stdname=[x[0] for x in order if x[1]==thirdlow]\n",
    "thirdlow_stdname.sort()\n",
    "print('names :')\n",
    "for i2 in thirdlow_stdname:\n",
    "    print(i2)"
   ]
  },
  {
   "cell_type": "code",
   "execution_count": 40,
   "id": "3c03966e",
   "metadata": {},
   "outputs": [
    {
     "name": "stdout",
     "output_type": "stream",
     "text": [
      "[['asadhya', 22.0], ['lumar', 48.0], ['uppala', 48.0], ['scb', 49.0], ['pavan', 50.0]]\n"
     ]
    }
   ],
   "source": [
    "print(order)"
   ]
  },
  {
   "cell_type": "code",
   "execution_count": 41,
   "id": "0686cfd0",
   "metadata": {},
   "outputs": [
    {
     "name": "stdout",
     "output_type": "stream",
     "text": [
      "Input number of students: 4\n",
      "Name: pavan\n",
      "Total marks: 50\n",
      "Name: kumar\n",
      "Total marks: 49\n",
      "Name: uppala\n",
      "Total marks: 48\n",
      "Name: asadhya\n",
      "Total marks: 48\n",
      "\n",
      "Names and Marks of all students:\n",
      "[['pavan', 50.0], ['kumar', 49.0], ['uppala', 48.0], ['asadhya', 48.0]]\n",
      "\n",
      "Second lowest Marks:  49.0\n",
      "\n",
      "Names:\n",
      "kumar\n"
     ]
    }
   ],
   "source": [
    "students=[]\n",
    "second_low = 0\n",
    "n = int(input(\"Input number of students: \"))\n",
    "for _ in range(n):\n",
    "   s_name = input(\"Name: \")\n",
    "   score = float(input(\"Total marks: \"))\n",
    "   students.append([s_name,score])\n",
    "print(\"\\nNames and Marks of all students:\")\n",
    "print(students)\n",
    "order =sorted(students, key = lambda x: int(x[1]))\n",
    "for i in range(n):\n",
    "   if order[i][1] != order[0][1]:\n",
    "       second_low = order[i][1]\n",
    "       break\n",
    "print(\"\\nSecond lowest Marks: \",second_low)\n",
    "sec_student_name = [x[0] for x in order if x[1] == second_low]\n",
    "sec_student_name.sort()\n",
    "print(\"\\nNames:\")\n",
    "for s_name in sec_student_name:\n",
    "   print(s_name)"
   ]
  },
  {
   "cell_type": "code",
   "execution_count": 42,
   "id": "0e5a8c5f",
   "metadata": {},
   "outputs": [
    {
     "name": "stdout",
     "output_type": "stream",
     "text": [
      "[['uppala', 48.0], ['asadhya', 48.0], ['kumar', 49.0], ['pavan', 50.0]]\n"
     ]
    }
   ],
   "source": [
    "print(order)"
   ]
  },
  {
   "cell_type": "code",
   "execution_count": 49,
   "id": "1179ed1f",
   "metadata": {},
   "outputs": [
    {
     "name": "stdout",
     "output_type": "stream",
     "text": [
      "[(5, 7), (4, 5), (6, 5), (7, 4)]\n"
     ]
    }
   ],
   "source": [
    "from collections import Counter\n",
    "l=[1,2,3,4,6,4,5,5,6,4,7,5,2,1,5,4,5,5,5,4,6,7,6,7,6,7]\n",
    "ctr=Counter(l)\n",
    "print(ctr.most_common(4))"
   ]
  },
  {
   "cell_type": "code",
   "execution_count": 55,
   "id": "b06ac768",
   "metadata": {},
   "outputs": [
    {
     "name": "stdout",
     "output_type": "stream",
     "text": [
      "least common element of the list : 3\n",
      "most common element of the list : 5\n"
     ]
    }
   ],
   "source": [
    "least_count=min(ctr,key=ctr.get);max_count=max(ctr,key=ctr.get)\n",
    "print('least common element of the list :',least_count)\n",
    "print('most common element of the list :',max_count)"
   ]
  },
  {
   "cell_type": "code",
   "execution_count": 53,
   "id": "29d2770a",
   "metadata": {},
   "outputs": [],
   "source": [
    "## minimum and maximum oocurance of given elements##"
   ]
  },
  {
   "cell_type": "code",
   "execution_count": 56,
   "id": "62b57e87",
   "metadata": {},
   "outputs": [],
   "source": [
    "##adding dictionaries##"
   ]
  },
  {
   "cell_type": "code",
   "execution_count": 59,
   "id": "ee3700b2",
   "metadata": {},
   "outputs": [
    {
     "name": "stdout",
     "output_type": "stream",
     "text": [
      "merged dictionary is : {'w': 'white', 'o': 'orange', 'r': 'red', 'b': 'blue', 'g': 'green'}\n"
     ]
    }
   ],
   "source": [
    "import collections\n",
    "color1={'r':'red','b':'blue','g':'green'};color2={'w':'white','o':'orange'}\n",
    "merged_dict=dict(collections.ChainMap({},color1,color2))\n",
    "print('merged dictionary is :',merged_dict)"
   ]
  },
  {
   "cell_type": "code",
   "execution_count": 60,
   "id": "01f5a849",
   "metadata": {},
   "outputs": [],
   "source": [
    "## characters in a list of strings which occur more or less than the number##"
   ]
  },
  {
   "cell_type": "code",
   "execution_count": 69,
   "id": "8c0b80c8",
   "metadata": {},
   "outputs": [],
   "source": [
    "from collections import Counter\n",
    "from itertools import chain\n",
    "def maxmin_occur(l,n):\n",
    "    temp=(set(sub)for sub in l)\n",
    "    counts=Counter(chain.from_iterable(temp))\n",
    "    gt_n=[chr for chr,count in counts.items() if count>=n]\n",
    "    lt_n=[chr for chr,count in counts.items() if count<n]\n",
    "    return gt_n,lt_n\n"
   ]
  },
  {
   "cell_type": "code",
   "execution_count": null,
   "id": "a44817d6",
   "metadata": {},
   "outputs": [],
   "source": [
    "#doubt#"
   ]
  },
  {
   "cell_type": "code",
   "execution_count": 70,
   "id": "0aedd934",
   "metadata": {},
   "outputs": [],
   "source": [
    "l=['paban','kumar']"
   ]
  },
  {
   "cell_type": "code",
   "execution_count": 72,
   "id": "fd20bd3a",
   "metadata": {},
   "outputs": [
    {
     "data": {
      "text/plain": [
       "([], ['b', 'n', 'a', 'p', 'm', 'k', 'r', 'u'])"
      ]
     },
     "execution_count": 72,
     "metadata": {},
     "output_type": "execute_result"
    }
   ],
   "source": [
    "maxmin_occur(l,3)"
   ]
  },
  {
   "cell_type": "code",
   "execution_count": 109,
   "id": "14ff4ee3",
   "metadata": {},
   "outputs": [
    {
     "name": "stdout",
     "output_type": "stream",
     "text": [
      "Python Exercises Practice Solution solution\n"
     ]
    }
   ],
   "source": [
    "from collections import OrderedDict\n",
    "text_str = \"Python Exercises Practice Practice Practice Solution Exercises solution Python\"\n",
    "result = ' '.join(OrderedDict((w,w) for w in text_str.split()).keys())\n",
    "print(result)\n",
    "                  "
   ]
  },
  {
   "cell_type": "code",
   "execution_count": 110,
   "id": "64b839b7",
   "metadata": {},
   "outputs": [],
   "source": [
    "#doubt#"
   ]
  },
  {
   "cell_type": "code",
   "execution_count": 111,
   "id": "7f883723",
   "metadata": {},
   "outputs": [],
   "source": [
    "a=text_str.split()"
   ]
  },
  {
   "cell_type": "code",
   "execution_count": 112,
   "id": "ef62e884",
   "metadata": {},
   "outputs": [
    {
     "data": {
      "text/plain": [
       "['Python',\n",
       " 'Exercises',\n",
       " 'Practice',\n",
       " 'Practice',\n",
       " 'Practice',\n",
       " 'Solution',\n",
       " 'Exercises',\n",
       " 'solution',\n",
       " 'Python']"
      ]
     },
     "execution_count": 112,
     "metadata": {},
     "output_type": "execute_result"
    }
   ],
   "source": [
    "a"
   ]
  },
  {
   "cell_type": "code",
   "execution_count": 113,
   "id": "f88e5d15",
   "metadata": {},
   "outputs": [],
   "source": [
    "b=OrderedDict((i,i) for i in a) "
   ]
  },
  {
   "cell_type": "code",
   "execution_count": 114,
   "id": "79c66986",
   "metadata": {},
   "outputs": [
    {
     "data": {
      "text/plain": [
       "OrderedDict([('Python', 'Python'),\n",
       "             ('Exercises', 'Exercises'),\n",
       "             ('Practice', 'Practice'),\n",
       "             ('Solution', 'Solution'),\n",
       "             ('solution', 'solution')])"
      ]
     },
     "execution_count": 114,
     "metadata": {},
     "output_type": "execute_result"
    }
   ],
   "source": [
    "b"
   ]
  },
  {
   "cell_type": "code",
   "execution_count": 115,
   "id": "4075a6c0",
   "metadata": {},
   "outputs": [
    {
     "data": {
      "text/plain": [
       "'Python Exercises Practice Solution solution'"
      ]
     },
     "execution_count": 115,
     "metadata": {},
     "output_type": "execute_result"
    }
   ],
   "source": [
    "' '.join(b)"
   ]
  },
  {
   "cell_type": "code",
   "execution_count": 116,
   "id": "31fe96b7",
   "metadata": {},
   "outputs": [],
   "source": [
    "## remove duplicate words##"
   ]
  },
  {
   "cell_type": "code",
   "execution_count": 117,
   "id": "07628110",
   "metadata": {},
   "outputs": [],
   "source": [
    "## doubt OrderedDict##"
   ]
  },
  {
   "cell_type": "code",
   "execution_count": 118,
   "id": "71390ea9",
   "metadata": {},
   "outputs": [
    {
     "name": "stdout",
     "output_type": "stream",
     "text": [
      "Counter({3: 3, 4: 2, 1: 1, 65: 1, 5: 1, 2: 1, 6: 1})\n"
     ]
    }
   ],
   "source": [
    "from collections import Counter\n",
    "from itertools import chain\n",
    "a=[[1,3,3,4,65,5],[2,3,4,6]]\n",
    "result=Counter(chain.from_iterable(a))\n",
    "print(result)"
   ]
  },
  {
   "cell_type": "code",
   "execution_count": 119,
   "id": "c8f55b37",
   "metadata": {},
   "outputs": [],
   "source": [
    "##frequency of elements from list of lists##"
   ]
  },
  {
   "cell_type": "code",
   "execution_count": 120,
   "id": "2c2af0eb",
   "metadata": {},
   "outputs": [],
   "source": [
    "## separing roll numbers based on class name##"
   ]
  },
  {
   "cell_type": "code",
   "execution_count": 128,
   "id": "8f732b2e",
   "metadata": {},
   "outputs": [
    {
     "name": "stdout",
     "output_type": "stream",
     "text": [
      "defaultdict(<class 'list'>, {'v': [1, 2], 'vi': [3], 'vii': [4]})\n"
     ]
    }
   ],
   "source": [
    "from collections import defaultdict\n",
    "classes=(('v',1),('v',2),('vi',3),('vii',4))\n",
    "class_roomno=defaultdict(list)\n",
    "for class_name,roll_no in classes:\n",
    "    class_roomno[class_name].append(roll_no)\n",
    "print(class_roomno)"
   ]
  },
  {
   "cell_type": "code",
   "execution_count": 129,
   "id": "c3ce8683",
   "metadata": {},
   "outputs": [],
   "source": [
    "## doubt##"
   ]
  },
  {
   "cell_type": "code",
   "execution_count": 130,
   "id": "78af7cd3",
   "metadata": {},
   "outputs": [],
   "source": [
    "## reversing the dict ##"
   ]
  },
  {
   "cell_type": "code",
   "execution_count": 147,
   "id": "3e89aa5b",
   "metadata": {},
   "outputs": [
    {
     "name": "stdout",
     "output_type": "stream",
     "text": [
      "kohli 96\n",
      "virat 25\n",
      "rohit 99\n",
      "\n",
      " rohit 99\n",
      "\n",
      " virat 25\n",
      "\n",
      " kohli 96\n"
     ]
    }
   ],
   "source": [
    "from collections import OrderedDict\n",
    "d={'kohli':96,'virat':25,'rohit':99}\n",
    "new_dict=OrderedDict(d.items())\n",
    "for key in new_dict:\n",
    "    print(key,new_dict[key])\n",
    "a=reversed(new_dict)\n",
    "for key in a:\n",
    "    print('\\n',key,new_dict[key])"
   ]
  },
  {
   "cell_type": "code",
   "execution_count": 148,
   "id": "b05e5e2d",
   "metadata": {},
   "outputs": [],
   "source": [
    "## compare lists##"
   ]
  },
  {
   "cell_type": "code",
   "execution_count": 159,
   "id": "2751e7f6",
   "metadata": {},
   "outputs": [],
   "source": [
    "def comp_list(x,y):\n",
    "    return x[i]==y[i] and len(x)==len(y)"
   ]
  },
  {
   "cell_type": "code",
   "execution_count": 160,
   "id": "f0e7b320",
   "metadata": {},
   "outputs": [
    {
     "data": {
      "text/plain": [
       "False"
      ]
     },
     "execution_count": 160,
     "metadata": {},
     "output_type": "execute_result"
    }
   ],
   "source": [
    "l1=[1,2,3,4];l2=[1,2,3,4,5]\n",
    "comp_list(l1,l2)"
   ]
  },
  {
   "cell_type": "code",
   "execution_count": 161,
   "id": "cbf10e52",
   "metadata": {},
   "outputs": [],
   "source": [
    "from collections import Counter\n",
    "def com_lists(x,y):\n",
    "    return Counter[x]==Counter[y]"
   ]
  },
  {
   "cell_type": "code",
   "execution_count": 162,
   "id": "6c9c5f06",
   "metadata": {},
   "outputs": [
    {
     "data": {
      "text/plain": [
       "False"
      ]
     },
     "execution_count": 162,
     "metadata": {},
     "output_type": "execute_result"
    }
   ],
   "source": [
    "com_lists(l1,l2)"
   ]
  },
  {
   "cell_type": "code",
   "execution_count": null,
   "id": "37ac3b73",
   "metadata": {},
   "outputs": [],
   "source": []
  }
 ],
 "metadata": {
  "kernelspec": {
   "display_name": "Python 3 (ipykernel)",
   "language": "python",
   "name": "python3"
  },
  "language_info": {
   "codemirror_mode": {
    "name": "ipython",
    "version": 3
   },
   "file_extension": ".py",
   "mimetype": "text/x-python",
   "name": "python",
   "nbconvert_exporter": "python",
   "pygments_lexer": "ipython3",
   "version": "3.9.12"
  }
 },
 "nbformat": 4,
 "nbformat_minor": 5
}
