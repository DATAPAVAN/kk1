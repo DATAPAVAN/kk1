{
 "cells": [
  {
   "cell_type": "code",
   "execution_count": 14,
   "id": "ee2f74ff",
   "metadata": {},
   "outputs": [
    {
     "name": "stdout",
     "output_type": "stream",
     "text": [
      "sudhanshu\n",
      "kumar\n",
      "20.22.1999\n"
     ]
    }
   ],
   "source": [
    "class person:\n",
    "    def __init__(self,name,surname,yob):\n",
    "        self.name1=name\n",
    "        self.__surname1=surname## __ means private variable\n",
    "        self.yob1=yob\n",
    "sudh=person(\"sudhanshu\",\"kumar\",\"20.22.1999\")\n",
    "print(sudh.name1)\n",
    "print(sudh._person__surname1)## to call a private variable\n",
    "print(sudh.yob1)"
   ]
  },
  {
   "cell_type": "code",
   "execution_count": 26,
   "id": "02db900f",
   "metadata": {},
   "outputs": [
    {
     "name": "stdout",
     "output_type": "stream",
     "text": [
      "<__main__.person object at 0x0000021C0764FF10>\n",
      "yob\n",
      "name\n",
      "surname\n"
     ]
    }
   ],
   "source": [
    "class person:\n",
    "    \n",
    "        _name1=\"name\" # _ means protected variable\n",
    "        __surname1=\"surname\"## __ means private variable\n",
    "        yob1=\"yob\"\n",
    "obj=person()\n",
    "print(obj)\n",
    "class employee(person):\n",
    "    pass\n",
    "obj1=employee()\n",
    "print(obj1.yob1)\n",
    "print(obj1._name1)\n",
    "print(obj1._person__surname1)\n",
    "## print(obj1._employee__surname1)\n",
    "## won't work because system converts class and properties as key value pair"
   ]
  },
  {
   "cell_type": "code",
   "execution_count": 28,
   "id": "1885c9eb",
   "metadata": {},
   "outputs": [
    {
     "name": "stdout",
     "output_type": "stream",
     "text": [
      "<__main__.person object at 0x0000021C07154280>\n",
      "2000\n",
      "sudh\n",
      "surname\n",
      "kum\n"
     ]
    }
   ],
   "source": [
    "class person:\n",
    "    \n",
    "        _name1=\"name\" # _ means protected variable\n",
    "        __surname1=\"surname\"## __ means private variable\n",
    "        yob1=\"yob\"\n",
    "obj=person()\n",
    "print(obj)\n",
    "class employee(person):\n",
    "    _name1=\"sudh\"\n",
    "    __surname1=\"kum\"\n",
    "    yob1=2000\n",
    "    \n",
    "obj1=employee()\n",
    "print(obj1.yob1)\n",
    "print(obj1._name1)\n",
    "print(obj1._person__surname1)\n",
    "print(obj1._employee__surname1)## here it works"
   ]
  },
  {
   "cell_type": "code",
   "execution_count": 36,
   "id": "021647b1",
   "metadata": {},
   "outputs": [
    {
     "name": "stdout",
     "output_type": "stream",
     "text": [
      "32\n",
      "namesurname\n",
      "2000\n",
      "sudh\n",
      "surname\n",
      "kum\n",
      "10\n",
      "sudhsurname\n"
     ]
    }
   ],
   "source": [
    "class person:\n",
    "    \n",
    "        _name1=\"name\" # _ means protected variable\n",
    "        __surname1=\"surname\"## __ means private variable\n",
    "        yob1=1990\n",
    "        def _age(self,curr_year):\n",
    "            return curr_year-self.yob1\n",
    "        def __fullname(self):\n",
    "            return self._name1+self._person__surname1\n",
    "\n",
    "obj=person()\n",
    "print(obj._age(2022))## to call a protected function\n",
    "print(obj._person__fullname())## to call a private function\n",
    "class employee(person):\n",
    "    _name1=\"sudh\"\n",
    "    __surname1=\"kum\"\n",
    "    yob1=2000\n",
    "    \n",
    "obj1=employee()\n",
    "print(obj1.yob1)\n",
    "print(obj1._name1)\n",
    "print(obj1._person__surname1)\n",
    "print(obj1._employee__surname1)\n",
    "print(obj1._age(2010))\n",
    "print(obj1._person__fullname())## if u observe here private variable not changing but protected variable will change because of the code\n"
   ]
  },
  {
   "cell_type": "code",
   "execution_count": 41,
   "id": "cbaeee3b",
   "metadata": {},
   "outputs": [
    {
     "name": "stdout",
     "output_type": "stream",
     "text": [
      "good\n",
      "mileage of this car\n"
     ]
    }
   ],
   "source": [
    "## single label inheritance\n",
    "class car:\n",
    "    def __init__(self,body,engine,tyre):\n",
    "        self.body=body\n",
    "        self.engine=engine\n",
    "        self.tyre=tyre\n",
    "    def mileage(self):\n",
    "        return \"mileage of this car\"\n",
    "class tata(car):\n",
    "    pass\n",
    "obj=tata('good','2stroke','oval')\n",
    "print(obj.body)\n",
    "print(obj.mileage())"
   ]
  },
  {
   "cell_type": "code",
   "execution_count": 44,
   "id": "22a3805d",
   "metadata": {},
   "outputs": [
    {
     "name": "stdout",
     "output_type": "stream",
     "text": [
      "this will show the all transactions are happened to icici and hdfc bank\n",
      "this will show you your account open status\n"
     ]
    }
   ],
   "source": [
    "## multi label inheritance:\n",
    "class bank:\n",
    "    def transaction(self):\n",
    "        return 'total transcation value'\n",
    "    def account_opening(self):\n",
    "        return 'this will show you your account open status'\n",
    "    def deposite(self):\n",
    "        return 'this will show your deposited amount'\n",
    "class HDFC_bank(bank):\n",
    "    def hdfc_to_icici(self):\n",
    "        return\"this will show the all transactions are happened to icici and hdfc bank\"\n",
    "class icici(HDFC_bank):\n",
    "    pass\n",
    "i=icici()\n",
    "print(i.hdfc_to_icici())\n",
    "print(i.account_opening())\n",
    "    "
   ]
  },
  {
   "cell_type": "code",
   "execution_count": 45,
   "id": "1b14cece",
   "metadata": {},
   "outputs": [],
   "source": [
    "## oops always gives a flexibility to reutilize the code that is already written"
   ]
  },
  {
   "cell_type": "code",
   "execution_count": 47,
   "id": "81a173ed",
   "metadata": {},
   "outputs": [
    {
     "name": "stdout",
     "output_type": "stream",
     "text": [
      "this will show the all transactions are happened to icici and hdfc bank\n",
      "this will show you your account open status\n"
     ]
    }
   ],
   "source": [
    "## multiple inheritance:\n",
    "class bank:\n",
    "    def transaction(self):\n",
    "        return 'total transcation value'\n",
    "    def account_opening(self):\n",
    "        return 'this will show you your account open status'\n",
    "    def deposite(self):\n",
    "        return 'this will show your deposited amount'\n",
    "class HDFC_bank():\n",
    "    def hdfc_to_icici(self):\n",
    "        return\"this will show the all transactions are happened to icici and hdfc bank\"\n",
    "    \n",
    "class icici(bank,HDFC_bank):\n",
    "    pass\n",
    "i=icici()\n",
    "print(i.hdfc_to_icici())\n",
    "print(i.account_opening())\n",
    "    "
   ]
  },
  {
   "cell_type": "code",
   "execution_count": 48,
   "id": "0636ebc6",
   "metadata": {},
   "outputs": [
    {
     "name": "stdout",
     "output_type": "stream",
     "text": [
      "this will show you your account open status of hdfc bank\n"
     ]
    }
   ],
   "source": [
    "## multiple inheritance ( priority  of classes )\n",
    "\n",
    "class bank:\n",
    "    def transaction(self):\n",
    "        return 'total transcation value'\n",
    "    def account_opening(self):\n",
    "        return 'this will show you your account open status'\n",
    "    def deposite(self):\n",
    "        return 'this will show your deposited amount'\n",
    "class HDFC_bank():\n",
    "    def hdfc_to_icici(self):\n",
    "        return\"this will show the all transactions are happened to icici and hdfc bank\"\n",
    "    def account_opening(self):\n",
    "        return 'this will show you your account open status of hdfc bank'\n",
    "    def deposite(self):\n",
    "        return 'this will show your deposited amount of hdfc bank'\n",
    "class icici(HDFC_bank,bank):\n",
    "    pass\n",
    "i=icici()\n",
    "print(i.account_opening()) ## if u observe here we have got the output of hdfc bank because \n",
    "## of we have entered hdfc in first place during inheriting.\n",
    "## and both bank and hdfc banks are having same function."
   ]
  },
  {
   "cell_type": "code",
   "execution_count": 49,
   "id": "bc7b88ac",
   "metadata": {},
   "outputs": [
    {
     "name": "stdout",
     "output_type": "stream",
     "text": [
      "these are the filtered students list\n"
     ]
    }
   ],
   "source": [
    "##( overriding  or redefining )same functions after inheritance:\n",
    "class ineuron:\n",
    "    def student(self):\n",
    "        print(\"print the all the details of students\")\n",
    "    def achievary(self):\n",
    "        print('print the list of the achievers')\n",
    "    def hall_o_fame(self):\n",
    "        print(\"print everyone from hallof fame\")\n",
    "class ineuron_vision(ineuron):\n",
    "    def student(self):\n",
    "        print(\"these are the filtered students list\")\n",
    "iv=ineuron_vision()\n",
    "iv.student()"
   ]
  },
  {
   "cell_type": "code",
   "execution_count": 52,
   "id": "810464ff",
   "metadata": {},
   "outputs": [
    {
     "name": "stdout",
     "output_type": "stream",
     "text": [
      "print the class of the students data science\n",
      "data science\n"
     ]
    }
   ],
   "source": [
    "## data hiding or abstraction:\n",
    "class ineuron:\n",
    "    __students=\"data science\"\n",
    "    \n",
    "    def students(self):\n",
    "        print(\"print the class of the students\",ineuron.__students)\n",
    "i=ineuron()\n",
    "i.students()\n",
    "print(i._ineuron__students)"
   ]
  },
  {
   "cell_type": "code",
   "execution_count": 53,
   "id": "17d29b73",
   "metadata": {},
   "outputs": [
    {
     "name": "stdout",
     "output_type": "stream",
     "text": [
      "data science \n",
      "data analytics\n",
      "data science \n",
      "data science \n",
      "sudhanshu\n"
     ]
    }
   ],
   "source": [
    "## encapsulation: which means nota allowing an user\n",
    "## to modify data directly running time instead trough \n",
    "## class methods.\n",
    "\n",
    "class ineuron:\n",
    "    def __init__(self):\n",
    "        self.students1 = \"data science \"\n",
    "\n",
    "    def students(self):\n",
    "        print(self.students1)\n",
    "\n",
    "i = ineuron()\n",
    "i.students()\n",
    "i.students1 = \"data analytics\"\n",
    "i.students()\n",
    "\n",
    "class ineuron1:\n",
    "    def __init__(self):\n",
    "        self.__students1 = \"data science \"\n",
    "\n",
    "    def students(self):\n",
    "        print(self.__students1)\n",
    "    def student_change(self,new_value):\n",
    "        self.__students1 = new_value\n",
    "\n",
    "i1 = ineuron1()\n",
    "i1.students()\n",
    "i1.__students1 = \"big data\"\n",
    "i1.students()\n",
    "i1.student_change(\"sudhanshu\")\n",
    "i1.students()\n",
    "\n"
   ]
  },
  {
   "cell_type": "code",
   "execution_count": null,
   "id": "0486f1e2",
   "metadata": {},
   "outputs": [],
   "source": [
    "## polymorphism :means one function but diffrent bhehavior\n",
    "## based on class object.\n",
    "class ineuron:\n",
    "    def students(self):\n",
    "        print(\"print a students details \")\n",
    "\n",
    "class class_type :\n",
    "    def students(self):\n",
    "        print(\"print the class type of students\")\n",
    "\n",
    "def ineuron_external(a):\n",
    "    a.students()\n",
    "i =ineuron()\n",
    "j = class_type()\n",
    "ineuron_external(i)\n",
    "ineuron_external(j)\n",
    "\n",
    "def test(a,b):\n",
    "    return a+b\n",
    "print(test(3,4))\n",
    "print(test(\"sudhanshu\" ,\"kumar\"))\n"
   ]
  }
 ],
 "metadata": {
  "kernelspec": {
   "display_name": "Python 3 (ipykernel)",
   "language": "python",
   "name": "python3"
  },
  "language_info": {
   "codemirror_mode": {
    "name": "ipython",
    "version": 3
   },
   "file_extension": ".py",
   "mimetype": "text/x-python",
   "name": "python",
   "nbconvert_exporter": "python",
   "pygments_lexer": "ipython3",
   "version": "3.9.12"
  }
 },
 "nbformat": 4,
 "nbformat_minor": 5
}
